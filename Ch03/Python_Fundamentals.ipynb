{
  "nbformat": 4,
  "nbformat_minor": 0,
  "metadata": {
    "colab": {
      "name": "Ch03-Python.Fundamentals.ipynb",
      "provenance": [],
      "collapsed_sections": [
        "MTcAfqwbzWzR",
        "3ea9IY9I0veb",
        "4fLHItJL1uTT",
        "9ByXsWoy3uOI",
        "K7qydHIt6cmT",
        "vApjVQO29iel"
      ],
      "authorship_tag": "ABX9TyNBVxRlKwxkzElEnGU5azL0",
      "include_colab_link": true
    },
    "kernelspec": {
      "name": "python3",
      "display_name": "Python 3"
    }
  },
  "cells": [
    {
      "cell_type": "markdown",
      "metadata": {
        "id": "view-in-github",
        "colab_type": "text"
      },
      "source": [
        "<a href=\"https://colab.research.google.com/github/kpillai2017/AI.Crash.Course/blob/master/Ch03_Python_Fundamentals.ipynb\" target=\"_parent\"><img src=\"https://colab.research.google.com/assets/colab-badge.svg\" alt=\"Open In Colab\"/></a>"
      ]
    },
    {
      "cell_type": "markdown",
      "metadata": {
        "id": "Kd5oo36DySCv",
        "colab_type": "text"
      },
      "source": [
        "# Python Fundamentals"
      ]
    },
    {
      "cell_type": "markdown",
      "metadata": {
        "id": "MTcAfqwbzWzR",
        "colab_type": "text"
      },
      "source": [
        "## Displaying text"
      ]
    },
    {
      "cell_type": "code",
      "metadata": {
        "id": "AdeSYE2byoVv",
        "colab_type": "code",
        "colab": {}
      },
      "source": [
        "# Displaying text\n",
        "print('Hello world!')"
      ],
      "execution_count": 0,
      "outputs": []
    },
    {
      "cell_type": "markdown",
      "metadata": {
        "id": "WNrPwaXizsyn",
        "colab_type": "text"
      },
      "source": [
        "### Exercise"
      ]
    },
    {
      "cell_type": "markdown",
      "metadata": {
        "id": "1s7DBEljz2ik",
        "colab_type": "text"
      },
      "source": [
        "#### Using only one print() method, try to display two or more lines"
      ]
    },
    {
      "cell_type": "code",
      "metadata": {
        "id": "Uf4-tzPrz7s0",
        "colab_type": "code",
        "colab": {
          "base_uri": "https://localhost:8080/",
          "height": 51
        },
        "outputId": "061848af-3051-4897-eaff-e915d2f90b10"
      },
      "source": [
        "# Print with newline character '\\n'\n",
        "print('Hello\\nWorld!') "
      ],
      "execution_count": 4,
      "outputs": [
        {
          "output_type": "stream",
          "text": [
            "Hello\n",
            "World!\n"
          ],
          "name": "stdout"
        }
      ]
    },
    {
      "cell_type": "markdown",
      "metadata": {
        "id": "3ea9IY9I0veb",
        "colab_type": "text"
      },
      "source": [
        "## Variables and operations"
      ]
    },
    {
      "cell_type": "code",
      "metadata": {
        "id": "kfqsHS6606Kr",
        "colab_type": "code",
        "colab": {
          "base_uri": "https://localhost:8080/",
          "height": 34
        },
        "outputId": "41dfcdac-05fb-4d42-9ea2-fa6a5cab518d"
      },
      "source": [
        "# Introduction to Variables\n",
        "\n",
        "x = 2\n",
        "\n",
        "x = x + 5   #x += 5\n",
        "\n",
        "x = x - 3   #x -= 3\n",
        "\n",
        "x = x * 2.5 #x *= 2.5\n",
        "\n",
        "x = x / 3   #X /= 3\n",
        "\n",
        "y = 3\n",
        "x += y\n",
        "print(x)"
      ],
      "execution_count": 5,
      "outputs": [
        {
          "output_type": "stream",
          "text": [
            "6.333333333333334\n"
          ],
          "name": "stdout"
        }
      ]
    },
    {
      "cell_type": "markdown",
      "metadata": {
        "id": "B7LhPWbA1EJi",
        "colab_type": "text"
      },
      "source": [
        "### Exercise"
      ]
    },
    {
      "cell_type": "markdown",
      "metadata": {
        "id": "hfHVL8Pv1I6T",
        "colab_type": "text"
      },
      "source": [
        "#### Try to find a way to raise one number to the power of another"
      ]
    },
    {
      "cell_type": "code",
      "metadata": {
        "id": "4xdeob7m1OYK",
        "colab_type": "code",
        "colab": {
          "base_uri": "https://localhost:8080/",
          "height": 34
        },
        "outputId": "1b12e708-e0d7-4666-c95b-a15ac3f82fe7"
      },
      "source": [
        "print(pow(2, 3))"
      ],
      "execution_count": 6,
      "outputs": [
        {
          "output_type": "stream",
          "text": [
            "8\n"
          ],
          "name": "stdout"
        }
      ]
    },
    {
      "cell_type": "code",
      "metadata": {
        "id": "Tmk558Uj1r4z",
        "colab_type": "code",
        "colab": {}
      },
      "source": [
        ""
      ],
      "execution_count": 0,
      "outputs": []
    },
    {
      "cell_type": "markdown",
      "metadata": {
        "colab_type": "text",
        "id": "4fLHItJL1uTT"
      },
      "source": [
        "## Lists and arrays"
      ]
    },
    {
      "cell_type": "code",
      "metadata": {
        "colab_type": "code",
        "id": "nEAx94W81uTc",
        "colab": {}
      },
      "source": [
        "# Introduction to Lists and Arrays\n",
        "\n",
        "L1 = list()\n",
        "L2 = []\n",
        "\n",
        "L3 = [3,4,1,6,7,5]\n",
        "L4 = [[2, 9, -5], [-1, 0, 4], [3, 1, 2]]\n",
        "\n",
        "import numpy as np\n",
        "nparray = np.zeros((5,5))"
      ],
      "execution_count": 0,
      "outputs": []
    },
    {
      "cell_type": "markdown",
      "metadata": {
        "colab_type": "text",
        "id": "VCMotbaE1uTm"
      },
      "source": [
        "### Exercise"
      ]
    },
    {
      "cell_type": "markdown",
      "metadata": {
        "colab_type": "text",
        "id": "4KRR_9yy1uTp"
      },
      "source": [
        "#### Try to find the mean of all the numbers in the L4 list. There are multiple solutions"
      ]
    },
    {
      "cell_type": "code",
      "metadata": {
        "colab_type": "code",
        "outputId": "ffeb6f08-1d4b-4d54-8e74-16797f4d16bf",
        "id": "ChwtCQ9x1uTq",
        "colab": {
          "base_uri": "https://localhost:8080/",
          "height": 34
        }
      },
      "source": [
        "print(np.mean(L4))"
      ],
      "execution_count": 8,
      "outputs": [
        {
          "output_type": "stream",
          "text": [
            "1.6666666666666667\n"
          ],
          "name": "stdout"
        }
      ]
    },
    {
      "cell_type": "markdown",
      "metadata": {
        "colab_type": "text",
        "id": "9ByXsWoy3uOI"
      },
      "source": [
        "## if statements and conditions"
      ]
    },
    {
      "cell_type": "code",
      "metadata": {
        "colab_type": "code",
        "id": "RY9yDfZs3uOO",
        "colab": {
          "base_uri": "https://localhost:8080/",
          "height": 34
        },
        "outputId": "6fe39ae8-e3d0-4bda-8dd6-0ac9dc5a331f"
      },
      "source": [
        "# Introduction to If Statements\n",
        "\n",
        "a = 5\n",
        "if a > 0:\n",
        "    print('a is greater than 0')\n",
        "elif a == 0:\n",
        "    print('a is equal to 0')\n",
        "else:\n",
        "    print('a is lower than 0')"
      ],
      "execution_count": 9,
      "outputs": [
        {
          "output_type": "stream",
          "text": [
            "a is greater than 0\n"
          ],
          "name": "stdout"
        }
      ]
    },
    {
      "cell_type": "markdown",
      "metadata": {
        "colab_type": "text",
        "id": "JvyJXAoa3uOV"
      },
      "source": [
        "### Exercise"
      ]
    },
    {
      "cell_type": "markdown",
      "metadata": {
        "colab_type": "text",
        "id": "_fvBmfzs3uOX"
      },
      "source": [
        "#### Build a condition that will check if a number is divisible by 3 or not"
      ]
    },
    {
      "cell_type": "code",
      "metadata": {
        "colab_type": "code",
        "outputId": "66221bb2-285e-4208-e699-10059e0236c2",
        "id": "pC2ndRSn3uOZ",
        "colab": {
          "base_uri": "https://localhost:8080/",
          "height": 34
        }
      },
      "source": [
        "a = 22\n",
        "if a % 3 == 0:\n",
        "  print(str(a) + ' is divisible by 3')\n",
        "else:\n",
        "  print(str(a) + ' is not divisible by 3')"
      ],
      "execution_count": 12,
      "outputs": [
        {
          "output_type": "stream",
          "text": [
            "22 is not divisible by 3\n"
          ],
          "name": "stdout"
        }
      ]
    },
    {
      "cell_type": "markdown",
      "metadata": {
        "colab_type": "text",
        "id": "K7qydHIt6cmT"
      },
      "source": [
        "## for and while loops"
      ]
    },
    {
      "cell_type": "code",
      "metadata": {
        "colab_type": "code",
        "id": "0ep3iLqm6cmY",
        "colab": {}
      },
      "source": [
        "# Introduction to For and While Loops\n",
        "\n",
        "for i in range(1, 20):\n",
        "    print(i)\n",
        "\n",
        "L3 = [3,4,1,6,7,5]\n",
        "for element in L3:\n",
        "    print(element)\n",
        "\n",
        "stop = False\n",
        "i = 0\n",
        "while stop == False:  # alternatively it can be \"while not stop:\"\n",
        "    i += 1\n",
        "    print(i)\n",
        "    if i >= 19:\n",
        "        stop = True\n",
        "\n",
        "L4 = [[2, 9, -5], [-1, 0, 4], [3, 1, 2]]\n",
        "for row in L4:\n",
        "    for element in row:\n",
        "        print(element)"
      ],
      "execution_count": 0,
      "outputs": []
    },
    {
      "cell_type": "markdown",
      "metadata": {
        "colab_type": "text",
        "id": "TSBoZiui6cmi"
      },
      "source": [
        "### Exercise"
      ]
    },
    {
      "cell_type": "markdown",
      "metadata": {
        "colab_type": "text",
        "id": "_b3l99Xy6cmk"
      },
      "source": [
        "#### Build both for and while loops that can calculate the factorial of a positive integer variable."
      ]
    },
    {
      "cell_type": "code",
      "metadata": {
        "colab_type": "code",
        "outputId": "f84e9188-cad2-4f32-c6df-9b7ffb862670",
        "id": "tBVSUx-56cmm",
        "colab": {
          "base_uri": "https://localhost:8080/",
          "height": 51
        }
      },
      "source": [
        "a = 5\n",
        "fact = 1\n",
        "for i in range(1, a+1):\n",
        "  fact *= i\n",
        "print('Using for loop: Factorial of ' + str(a) + ' is: ' + str(fact))\n",
        "\n",
        "fact = 1\n",
        "i = 1\n",
        "while (i <= a):\n",
        "  fact *= i\n",
        "  i += 1\n",
        "print('Using while loop: Factorial of ' + str(a) + ' is: ' + str(fact))"
      ],
      "execution_count": 16,
      "outputs": [
        {
          "output_type": "stream",
          "text": [
            "Using for loop: Factorial of 5 is: 120\n",
            "Using while loop: Factorial of 5 is: 120\n"
          ],
          "name": "stdout"
        }
      ]
    },
    {
      "cell_type": "markdown",
      "metadata": {
        "colab_type": "text",
        "id": "vApjVQO29iel"
      },
      "source": [
        "## Functions"
      ]
    },
    {
      "cell_type": "code",
      "metadata": {
        "colab_type": "code",
        "id": "oz9B8j-Q9ies",
        "colab": {
          "base_uri": "https://localhost:8080/",
          "height": 34
        },
        "outputId": "1cf4fddc-a410-4eb4-ecfa-584d5b348dad"
      },
      "source": [
        "# Introduction to Functions\n",
        "\n",
        "def division(a, b):\n",
        "    result = a / b\n",
        "    return result\n",
        "\n",
        "d = division(3, 5)\n",
        "print(d)"
      ],
      "execution_count": 17,
      "outputs": [
        {
          "output_type": "stream",
          "text": [
            "0.6\n"
          ],
          "name": "stdout"
        }
      ]
    },
    {
      "cell_type": "markdown",
      "metadata": {
        "colab_type": "text",
        "id": "F26wnL-29ie0"
      },
      "source": [
        "### Exercise"
      ]
    },
    {
      "cell_type": "markdown",
      "metadata": {
        "colab_type": "text",
        "id": "4itsbypk9ie2"
      },
      "source": [
        "#### Build a function to calculate the distance between two points on an x,y plane: one with coordinates x1 and y1, and the other with coordinates x2 and y2"
      ]
    },
    {
      "cell_type": "code",
      "metadata": {
        "colab_type": "code",
        "outputId": "b273b9d3-709d-4312-838e-9aa87b400d4d",
        "id": "ct1vEK6S9ie4",
        "colab": {
          "base_uri": "https://localhost:8080/",
          "height": 34
        }
      },
      "source": [
        "def distance(x1, y1, x2, y2):\n",
        "  return pow((pow(x1-x2, 2) + pow(y1-y2, 2)), 0.5)\n",
        "\n",
        "dist = distance(0, 0, 3, 4)\n",
        "print(dist)"
      ],
      "execution_count": 18,
      "outputs": [
        {
          "output_type": "stream",
          "text": [
            "5.0\n"
          ],
          "name": "stdout"
        }
      ]
    },
    {
      "cell_type": "markdown",
      "metadata": {
        "colab_type": "text",
        "id": "An_AmQg4BSHp"
      },
      "source": [
        "## Classes and objects"
      ]
    },
    {
      "cell_type": "code",
      "metadata": {
        "colab_type": "code",
        "outputId": "b199bd7e-fc29-40f7-d238-e06abe643747",
        "id": "rznM0_EzBSH-",
        "colab": {
          "base_uri": "https://localhost:8080/",
          "height": 34
        }
      },
      "source": [
        "# Introduction to classes\n",
        "\n",
        "class Bot():\n",
        "    \n",
        "    def __init__(self, posx, posy):\n",
        "        self.posx = posx\n",
        "        self.posy = posy\n",
        "    \n",
        "    def move(self, speedx, speedy):\n",
        "        self.posx += speedx\n",
        "        self.posy += speedy\n",
        "    \n",
        "bot = Bot(3, 4)\n",
        "bot.move(2, -1)\n",
        "print(bot.posx, bot.posy)"
      ],
      "execution_count": 19,
      "outputs": [
        {
          "output_type": "stream",
          "text": [
            "5 3\n"
          ],
          "name": "stdout"
        }
      ]
    },
    {
      "cell_type": "markdown",
      "metadata": {
        "colab_type": "text",
        "id": "PeAEPZB_BSIF"
      },
      "source": [
        "### Exercise"
      ]
    },
    {
      "cell_type": "markdown",
      "metadata": {
        "colab_type": "text",
        "id": "jSCgJLT4BSIG"
      },
      "source": [
        "#### Your final challenge will be to build a very simple car class. As arguments, a car object should take the maximum velocity at which the car can move (unit in m/s), as well as the acceleration at which the car is accelerating (unit in m/s2). I also challenge you to build a method that will calculate the time it will take for the car to accelerate from the current speed to the maximum speed, knowing the acceleration (use the current speed as the argument of this method)"
      ]
    },
    {
      "cell_type": "code",
      "metadata": {
        "colab_type": "code",
        "outputId": "7b887d54-b020-413a-cdf2-1991097941c5",
        "id": "aq3h6bsDBSIJ",
        "colab": {
          "base_uri": "https://localhost:8080/",
          "height": 34
        }
      },
      "source": [
        "class Car():\n",
        "    def __init__(self, max_vel, acc):\n",
        "        self.max_vel = max_vel\n",
        "        self.acc = acc\n",
        "    \n",
        "    def calcTime(self, curr_vel):\n",
        "        time = (self.max_vel - curr_vel) / self.acc\n",
        "        return time\n",
        "    \n",
        "car = Car(50, 4)\n",
        "time_taken = car.calcTime(25)\n",
        "print(time_taken)"
      ],
      "execution_count": 21,
      "outputs": [
        {
          "output_type": "stream",
          "text": [
            "6.25\n"
          ],
          "name": "stdout"
        }
      ]
    },
    {
      "cell_type": "code",
      "metadata": {
        "colab_type": "code",
        "id": "FH1T02iaBSIM",
        "colab": {}
      },
      "source": [
        ""
      ],
      "execution_count": 0,
      "outputs": []
    }
  ]
}
