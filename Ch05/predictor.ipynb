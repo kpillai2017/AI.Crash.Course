{
  "nbformat": 4,
  "nbformat_minor": 0,
  "metadata": {
    "colab": {
      "name": "predictor.ipynb",
      "provenance": [],
      "authorship_tag": "ABX9TyOQWLjf+MUJgsCjNRQXWdcd",
      "include_colab_link": true
    },
    "kernelspec": {
      "name": "python3",
      "display_name": "Python 3"
    }
  },
  "cells": [
    {
      "cell_type": "markdown",
      "metadata": {
        "id": "view-in-github",
        "colab_type": "text"
      },
      "source": [
        "<a href=\"https://colab.research.google.com/github/kpillai2017/AI.Crash.Course/blob/master/Ch05/predictor.ipynb\" target=\"_parent\"><img src=\"https://colab.research.google.com/assets/colab-badge.svg\" alt=\"Open In Colab\"/></a>"
      ]
    },
    {
      "cell_type": "markdown",
      "metadata": {
        "id": "0UdJeIGUU2By",
        "colab_type": "text"
      },
      "source": [
        "## Thompson Sampling for Slot Machines"
      ]
    },
    {
      "cell_type": "code",
      "metadata": {
        "id": "WD7I_3uKUhGA",
        "colab_type": "code",
        "colab": {}
      },
      "source": [
        "# Importing the libraries\n",
        "import numpy as np\n"
      ],
      "execution_count": 0,
      "outputs": []
    },
    {
      "cell_type": "code",
      "metadata": {
        "id": "P-o274jMUV5G",
        "colab_type": "code",
        "colab": {}
      },
      "source": [
        "# Setting conversion rates and the number of samples\n",
        "conversionRates = [0.15, 0.04, 0.13, 0.11, 0.05]\n",
        "N = 10000\n",
        "d = len(conversionRates)"
      ],
      "execution_count": 0,
      "outputs": []
    },
    {
      "cell_type": "code",
      "metadata": {
        "id": "1s9izhIKWU-6",
        "colab_type": "code",
        "colab": {}
      },
      "source": [
        "# Creating the dataset\n",
        "X = np.zeros((N, d))\n",
        "for i in range(N):\n",
        "    for j in range(d):\n",
        "        if np.random.rand() < conversionRates[j]:\n",
        "            X[i][j] = 1"
      ],
      "execution_count": 0,
      "outputs": []
    },
    {
      "cell_type": "code",
      "metadata": {
        "id": "K73ld7biWbYd",
        "colab_type": "code",
        "colab": {}
      },
      "source": [
        "# Making arrays to count our losses and wins\n",
        "nPosReward = np.zeros(d)\n",
        "nNegReward = np.zeros(d)"
      ],
      "execution_count": 0,
      "outputs": []
    },
    {
      "cell_type": "code",
      "metadata": {
        "id": "P_oNu3_qWf7j",
        "colab_type": "code",
        "colab": {}
      },
      "source": [
        "# Taking our best slot machine through beta distibution and updating its losses and wins\n",
        "for i in range(N):\n",
        "    selected = 0\n",
        "    maxRandom = 0\n",
        "    for j in range(d):\n",
        "        randomBeta = np.random.beta(nPosReward[j] + 1, nNegReward[j] + 1)\n",
        "        if randomBeta > maxRandom:\n",
        "            maxRandom = randomBeta\n",
        "            selected = j\n",
        "    if X[i][selected] == 1:\n",
        "        nPosReward[selected] += 1\n",
        "    else:\n",
        "        nNegReward[selected] += 1"
      ],
      "execution_count": 0,
      "outputs": []
    },
    {
      "cell_type": "code",
      "metadata": {
        "id": "DB7jDvyxWosX",
        "colab_type": "code",
        "colab": {
          "base_uri": "https://localhost:8080/",
          "height": 119
        },
        "outputId": "c7563778-48a5-4230-b66e-1d29a173022a"
      },
      "source": [
        "# Showing which slot machine is considered the best\n",
        "nSelected = nPosReward + nNegReward\n",
        "for i in range(d):\n",
        "    print('Machine number ' + str(i + 1) + ' was selected ' + str(nSelected[i]) + ' times')\n",
        "print('Conclusion: Best machine is machine number ' + str(np.argmax(nSelected) + 1))"
      ],
      "execution_count": 20,
      "outputs": [
        {
          "output_type": "stream",
          "text": [
            "Machine number 1 was selected 7599.0 times\n",
            "Machine number 2 was selected 74.0 times\n",
            "Machine number 3 was selected 2030.0 times\n",
            "Machine number 4 was selected 205.0 times\n",
            "Machine number 5 was selected 92.0 times\n",
            "Conclusion: Best machine is machine number 1\n"
          ],
          "name": "stdout"
        }
      ]
    }
  ]
}